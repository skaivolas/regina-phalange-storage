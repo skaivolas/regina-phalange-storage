{
 "cells": [
  {
   "cell_type": "code",
   "execution_count": 1,
   "metadata": {},
   "outputs": [],
   "source": [
    "folder=\"Desktop/Regina Phalange/circumstance/movy/Persian/1 Latinized/1 Alefbā-ye dovvom/1 Ma farsi baladim/Masters/\""
   ]
  },
  {
   "cell_type": "code",
   "execution_count": 13,
   "metadata": {},
   "outputs": [],
   "source": [
    "for i in range(1,39):\n",
    "    with open(folder+\"Master\"+str(i)+\".odt.md\") as fin:\n",
    "        a=[line for line in fin]\n",
    "        a=[\"---\\n\",\"title: \"+a[0][2:],\"layout: page\",\"\\n---\\n\"]+a[1:]\n",
    "        with open(folder+\"transform/Master\"+str(i)+\"odt.md\",\"w\") as fout:\n",
    "            fout.writelines(a)"
   ]
  },
  {
   "cell_type": "code",
   "execution_count": null,
   "metadata": {},
   "outputs": [],
   "source": []
  }
 ],
 "metadata": {
  "kernelspec": {
   "display_name": "Python 3",
   "language": "python",
   "name": "python3"
  },
  "language_info": {
   "codemirror_mode": {
    "name": "ipython",
    "version": 3
   },
   "file_extension": ".py",
   "mimetype": "text/x-python",
   "name": "python",
   "nbconvert_exporter": "python",
   "pygments_lexer": "ipython3",
   "version": "3.6.5"
  }
 },
 "nbformat": 4,
 "nbformat_minor": 2
}
